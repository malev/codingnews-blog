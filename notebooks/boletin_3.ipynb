{
 "cells": [
  {
   "cell_type": "code",
   "execution_count": 6,
   "metadata": {
    "collapsed": false
   },
   "outputs": [],
   "source": [
    "import re\n",
    "import ujson\n",
    "import dask.bag as db\n",
    "from dask.diagnostics import ProgressBar\n",
    "from bs4 import BeautifulSoup\n",
    "import pandas as pd\n",
    "\n",
    "pbar = ProgressBar()\n",
    "pbar.register()\n",
    "\n",
    "\n",
    "def extract(blob):\n",
    "    return blob['dataList']\n",
    "        \n",
    "\n",
    "def remove_empty(data_list):\n",
    "    return data_list\n",
    "\n",
    "\n",
    "def valid_columns(data):\n",
    "    return {'detalleNorma': data['detalleNorma'], 'idTramite': data['idTramite']}\n",
    "\n",
    "\n",
    "def extract_text(data):\n",
    "    try:\n",
    "        return {\n",
    "            'idTramite': data['idTramite'],\n",
    "            'parsedText': BeautifulSoup(data['detalleNorma'], \"html.parser\").getText().strip()\n",
    "        }\n",
    "    except:\n",
    "        return None\n",
    "\n",
    "\n",
    "bag = db.read_text(\"xac\", blocksize=5000000)\n",
    "\n",
    "df = bag.map(ujson.loads).map(extract).filter(remove_empty).map(valid_columns).map(extract_text).filter(lambda x: x is not None)"
   ]
  },
  {
   "cell_type": "code",
   "execution_count": 7,
   "metadata": {
    "collapsed": true
   },
   "outputs": [],
   "source": [
    "from subprocess import check_output, CalledProcessError, Popen, PIPE\n",
    "from lxml import etree\n",
    "\n",
    "version = (0, 1, 0)\n",
    "version_string = \"PyFreeling version %d.%d.%d\" % version\n",
    "__copyright__ = 'Copyright (c) 2016 Marcos Vanetta'\n",
    "\n",
    "\n",
    "binary = None\n",
    "\n",
    "\n",
    "def find_binary():\n",
    "    try:\n",
    "        return check_output(['which', 'analyze']).split()[0]\n",
    "    except (CalledProcessError, KeyError):\n",
    "        return None\n",
    "\n",
    "\n",
    "class Analyzer(object):\n",
    "    def __init__(self, *args, **kwargs):\n",
    "        self.config = kwargs.get('config', 'analyzer.cfg')\n",
    "        self.lang = kwargs.get('lang', 'en')\n",
    "        self.timeout = kwargs.get('timeout', 30)\n",
    "        self.binary = find_binary()\n",
    "\n",
    "    def run(self, text, *args, **kwargs):\n",
    "        cmd = self._build_cmd(*args, **kwargs)\n",
    "        proc = Popen(cmd, stdin=PIPE, stdout=PIPE)\n",
    "        outs, errs = proc.communicate(text)\n",
    "\n",
    "        if errs is None:\n",
    "            return etree.XML(\"<sentences>{}</sentences>\".format(outs))\n",
    "        else:\n",
    "            raise Exception(errs)\n",
    "\n",
    "    def _build_param(self, key, val):\n",
    "        return '--{}'.format(key), val\n",
    "\n",
    "    def _build_flag(self, a):\n",
    "        return '--{}'.format(a)\n",
    "\n",
    "    def _build_cmd(self, *flags, **kwargs):\n",
    "        cmd = [self.binary, '-f', self.config]\n",
    "\n",
    "        for f in flags:\n",
    "            flag = self._build_flag(f)\n",
    "            if flag:\n",
    "                cmd.append(flag)\n",
    "\n",
    "        for key, val in iter(kwargs.items()):\n",
    "            param, value = self._build_param(key, val)\n",
    "            cmd += [param, value]\n",
    "\n",
    "        cmd += ['--output', 'xml']\n",
    "        return cmd"
   ]
  },
  {
   "cell_type": "code",
   "execution_count": 8,
   "metadata": {
    "collapsed": false
   },
   "outputs": [],
   "source": [
    "from lxml import etree\n",
    "\n",
    "def tokenize(data):\n",
    "    try:\n",
    "        analyzer = Analyzer(config='/usr/local/Cellar/freeling/4.0/share/freeling/config/es-ar.cfg')\n",
    "        tokens = []\n",
    "        xml_root = analyzer.run(data['parsedText'].encode('utf-8'), 'nec')\n",
    "        for element in xml_root.iter():\n",
    "            if element.tag == 'token':\n",
    "                tokens.append(dict(element.attrib))\n",
    "    except Exception as e:\n",
    "        print(data['idTramite'])\n",
    "        print(e)\n",
    "\n",
    "    return {'idTramite': data['idTramite'], 'tokens': tokens}\n",
    "tokens = df.map(tokenize)"
   ]
  },
  {
   "cell_type": "code",
   "execution_count": null,
   "metadata": {
    "collapsed": false
   },
   "outputs": [
    {
     "name": "stdout",
     "output_type": "stream",
     "text": [
      "[                                        ] | 0% Completed |  1min 54.4s"
     ]
    }
   ],
   "source": [
    "a = tokens.compute()"
   ]
  },
  {
   "cell_type": "code",
   "execution_count": null,
   "metadata": {
    "collapsed": false
   },
   "outputs": [],
   "source": [
    "import json\n",
    "with open('xac.json', 'w') as outfile:\n",
    "    json.dump(a, outfile)"
   ]
  },
  {
   "cell_type": "code",
   "execution_count": null,
   "metadata": {
    "collapsed": true
   },
   "outputs": [],
   "source": []
  }
 ],
 "metadata": {
  "kernelspec": {
   "display_name": "Python 2",
   "language": "python",
   "name": "python2"
  },
  "language_info": {
   "codemirror_mode": {
    "name": "ipython",
    "version": 2
   },
   "file_extension": ".py",
   "mimetype": "text/x-python",
   "name": "python",
   "nbconvert_exporter": "python",
   "pygments_lexer": "ipython2",
   "version": "2.7.11"
  }
 },
 "nbformat": 4,
 "nbformat_minor": 0
}
