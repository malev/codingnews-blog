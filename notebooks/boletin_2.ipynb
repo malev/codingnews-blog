{
 "cells": [
  {
   "cell_type": "code",
   "execution_count": 1,
   "metadata": {
    "collapsed": false
   },
   "outputs": [],
   "source": [
    "import re\n",
    "import ujson\n",
    "import dask.bag as db\n",
    "from dask.diagnostics import ProgressBar\n",
    "from bs4 import BeautifulSoup\n",
    "\n",
    "pbar = ProgressBar()\n",
    "pbar.register()\n",
    "\n",
    "\n",
    "def extract(blob):\n",
    "    return blob['dataList']\n",
    "        \n",
    "\n",
    "def remove_empty(data_list):\n",
    "    return data_list\n",
    "\n",
    "\n",
    "def valid_columns(data):\n",
    "    return {'detalleNorma': data['detalleNorma'], 'idTramite': data['idTramite']}\n",
    "\n",
    "\n",
    "def extract_text(data):\n",
    "    try:\n",
    "        return {\n",
    "            'idTramite': data['idTramite'],\n",
    "            'parsedText': BeautifulSoup(data['detalleNorma'], \"html.parser\").getText().strip()\n",
    "        }\n",
    "    except:\n",
    "        return None\n",
    "\n",
    "def remove_nones(data):\n",
    "    return data is not None\n",
    "\n",
    "\n",
    "filename = \"example.dat\"\n",
    "bag = db.read_text(filename, blocksize=10000000)\n",
    "\n",
    "df = bag.map(ujson.loads).map(extract).filter(remove_empty).map(valid_columns).map(extract_text).filter(remove_nones)"
   ]
  },
  {
   "cell_type": "code",
   "execution_count": 2,
   "metadata": {
    "collapsed": false
   },
   "outputs": [],
   "source": [
    "from pyfreeling import Analyzer\n",
    "\n",
    "def tokenize(data):\n",
    "    try:\n",
    "        analyzer = Analyzer(config='/usr/local/Cellar/freeling/4.0/share/freeling/config/es-ar.cfg')\n",
    "        tokens = []\n",
    "        xml_root = analyzer.run(data['parsedText'].encode('utf-8'), 'nec')\n",
    "        for element in xml_root.iter():\n",
    "            if element.tag == 'token':\n",
    "                tokens.append(dict(element.attrib))\n",
    "    except:\n",
    "        print(data['parsedText'])\n",
    "\n",
    "    return {'idTramite': data['idTramite'], 'tokens': tokens}\n",
    "tokens = df.map(tokenize)"
   ]
  },
  {
   "cell_type": "code",
   "execution_count": 3,
   "metadata": {
    "collapsed": false
   },
   "outputs": [
    {
     "name": "stdout",
     "output_type": "stream",
     "text": [
      "[########################################] | 100% Completed |  4min 50.5s\n"
     ]
    }
   ],
   "source": [
    "tokens.map(ujson.dumps).to_textfiles('{}.*.dat'.format(filename))"
   ]
  },
  {
   "cell_type": "code",
   "execution_count": null,
   "metadata": {
    "collapsed": true
   },
   "outputs": [],
   "source": []
  }
 ],
 "metadata": {
  "kernelspec": {
   "display_name": "Python 2",
   "language": "python",
   "name": "python2"
  },
  "language_info": {
   "codemirror_mode": {
    "name": "ipython",
    "version": 2
   },
   "file_extension": ".py",
   "mimetype": "text/x-python",
   "name": "python",
   "nbconvert_exporter": "python",
   "pygments_lexer": "ipython2",
   "version": "2.7.11"
  }
 },
 "nbformat": 4,
 "nbformat_minor": 0
}
