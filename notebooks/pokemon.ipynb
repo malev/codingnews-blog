{
 "cells": [
  {
   "cell_type": "code",
   "execution_count": 4,
   "metadata": {
    "collapsed": false
   },
   "outputs": [],
   "source": [
    "import ujson\n",
    "import dask.bag as db\n",
    "\n",
    "bag = db.read_text(\"pokemon.dat\")\n",
    "\n",
    "df = bag.map(ujson.loads).to_dataframe()"
   ]
  },
  {
   "cell_type": "code",
   "execution_count": 5,
   "metadata": {
    "collapsed": false
   },
   "outputs": [
    {
     "data": {
      "text/html": [
       "<div>\n",
       "<table border=\"1\" class=\"dataframe\">\n",
       "  <thead>\n",
       "    <tr style=\"text-align: right;\">\n",
       "      <th></th>\n",
       "      <th>disappear_time</th>\n",
       "      <th>id</th>\n",
       "      <th>lat</th>\n",
       "      <th>lng</th>\n",
       "      <th>name</th>\n",
       "      <th>spawn_point_id</th>\n",
       "    </tr>\n",
       "  </thead>\n",
       "  <tbody>\n",
       "    <tr>\n",
       "      <th>0</th>\n",
       "      <td>1.468964e+09</td>\n",
       "      <td>16</td>\n",
       "      <td>30.267167</td>\n",
       "      <td>-97.742477</td>\n",
       "      <td>Pidgey</td>\n",
       "      <td>8644b50832f</td>\n",
       "    </tr>\n",
       "    <tr>\n",
       "      <th>1</th>\n",
       "      <td>1.468964e+09</td>\n",
       "      <td>41</td>\n",
       "      <td>30.266500</td>\n",
       "      <td>-97.743156</td>\n",
       "      <td>Zubat</td>\n",
       "      <td>8644b50847d</td>\n",
       "    </tr>\n",
       "    <tr>\n",
       "      <th>2</th>\n",
       "      <td>1.468879e+09</td>\n",
       "      <td>13</td>\n",
       "      <td>30.265430</td>\n",
       "      <td>-97.743071</td>\n",
       "      <td>Weedle</td>\n",
       "      <td>8644b5086cb</td>\n",
       "    </tr>\n",
       "    <tr>\n",
       "      <th>3</th>\n",
       "      <td>1.468964e+09</td>\n",
       "      <td>1</td>\n",
       "      <td>30.268948</td>\n",
       "      <td>-97.742646</td>\n",
       "      <td>Bulbasaur</td>\n",
       "      <td>8644b509e97</td>\n",
       "    </tr>\n",
       "    <tr>\n",
       "      <th>4</th>\n",
       "      <td>1.468964e+09</td>\n",
       "      <td>41</td>\n",
       "      <td>30.268933</td>\n",
       "      <td>-97.742901</td>\n",
       "      <td>Zubat</td>\n",
       "      <td>8644b509eb1</td>\n",
       "    </tr>\n",
       "  </tbody>\n",
       "</table>\n",
       "</div>"
      ],
      "text/plain": [
       "   disappear_time  id        lat        lng       name spawn_point_id\n",
       "0    1.468964e+09  16  30.267167 -97.742477     Pidgey    8644b50832f\n",
       "1    1.468964e+09  41  30.266500 -97.743156      Zubat    8644b50847d\n",
       "2    1.468879e+09  13  30.265430 -97.743071     Weedle    8644b5086cb\n",
       "3    1.468964e+09   1  30.268948 -97.742646  Bulbasaur    8644b509e97\n",
       "4    1.468964e+09  41  30.268933 -97.742901      Zubat    8644b509eb1"
      ]
     },
     "execution_count": 5,
     "metadata": {},
     "output_type": "execute_result"
    }
   ],
   "source": [
    "df.head()"
   ]
  },
  {
   "cell_type": "code",
   "execution_count": null,
   "metadata": {
    "collapsed": true
   },
   "outputs": [],
   "source": []
  }
 ],
 "metadata": {
  "kernelspec": {
   "display_name": "Python 2",
   "language": "python",
   "name": "python2"
  },
  "language_info": {
   "codemirror_mode": {
    "name": "ipython",
    "version": 2
   },
   "file_extension": ".py",
   "mimetype": "text/x-python",
   "name": "python",
   "nbconvert_exporter": "python",
   "pygments_lexer": "ipython2",
   "version": "2.7.11"
  }
 },
 "nbformat": 4,
 "nbformat_minor": 0
}
