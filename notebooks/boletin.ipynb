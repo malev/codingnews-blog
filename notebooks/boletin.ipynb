{
 "cells": [
  {
   "cell_type": "code",
   "execution_count": 55,
   "metadata": {
    "collapsed": false
   },
   "outputs": [],
   "source": [
    "import re\n",
    "import ujson\n",
    "import dask.bag as db\n",
    "import nltk\n",
    "from bs4 import BeautifulSoup\n",
    "\n",
    "\n",
    "bag = db.read_text(\"head.dat\")\n",
    "\n",
    "is_word = lambda x: re.search(\"^[a-zA-ZáéíóúüñÁÉÍÓÚÜÑ]+$\", x) is not None\n",
    "not_is_stopword = lambda x: x not in nltk.corpus.stopwords.words('spanish')\n",
    "\n",
    "def extract(blob):\n",
    "    if blob['dataList']:\n",
    "        html = blob['dataList'].get('detalleNorma', '')\n",
    "        if html is not None:\n",
    "            return BeautifulSoup(html, \"html.parser\").getText().lower().strip().split()\n",
    "    return []\n",
    "\n",
    "res = bag.map(ujson.loads).map(extract).concat().filter(is_word).filter(not_is_stopword).frequencies().compute()"
   ]
  },
  {
   "cell_type": "code",
   "execution_count": 56,
   "metadata": {
    "collapsed": false
   },
   "outputs": [],
   "source": [
    "sort = sorted(res, key=lambda x: x[1], reverse=True)"
   ]
  },
  {
   "cell_type": "code",
   "execution_count": 57,
   "metadata": {
    "collapsed": false
   },
   "outputs": [
    {
     "data": {
      "text/plain": [
       "[(u'ley', 54),\n",
       " (u'acuerdo', 50),\n",
       " (u'articulo', 37),\n",
       " (u'presente', 36),\n",
       " (u'partes', 33),\n",
       " (u'trabajo', 31),\n",
       " (u'expediente', 26),\n",
       " (u'nacional', 26),\n",
       " (u'mes', 20),\n",
       " (u'fojas', 18)]"
      ]
     },
     "execution_count": 57,
     "metadata": {},
     "output_type": "execute_result"
    }
   ],
   "source": [
    "sort[0:10]"
   ]
  }
 ],
 "metadata": {
  "kernelspec": {
   "display_name": "Python 2",
   "language": "python",
   "name": "python2"
  },
  "language_info": {
   "codemirror_mode": {
    "name": "ipython",
    "version": 2
   },
   "file_extension": ".py",
   "mimetype": "text/x-python",
   "name": "python",
   "nbconvert_exporter": "python",
   "pygments_lexer": "ipython2",
   "version": "2.7.11"
  }
 },
 "nbformat": 4,
 "nbformat_minor": 0
}
