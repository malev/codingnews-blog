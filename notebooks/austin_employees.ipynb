{
 "cells": [
  {
   "cell_type": "code",
   "execution_count": 1,
   "metadata": {
    "collapsed": true
   },
   "outputs": [],
   "source": [
    "%matplotlib inline"
   ]
  },
  {
   "cell_type": "code",
   "execution_count": 2,
   "metadata": {
    "collapsed": true
   },
   "outputs": [],
   "source": [
    "from __future__ import division\n",
    "import pandas as pd\n",
    "import numpy as np\n",
    "import matplotlib.pyplot as plt\n",
    "plt.style.use('ggplot')"
   ]
  },
  {
   "cell_type": "code",
   "execution_count": 3,
   "metadata": {
    "collapsed": false
   },
   "outputs": [
    {
     "data": {
      "text/html": [
       "<div>\n",
       "<table border=\"1\" class=\"dataframe\">\n",
       "  <thead>\n",
       "    <tr style=\"text-align: right;\">\n",
       "      <th></th>\n",
       "      <th>Emp ID</th>\n",
       "      <th>Last</th>\n",
       "      <th>Annual Salary</th>\n",
       "    </tr>\n",
       "  </thead>\n",
       "  <tbody>\n",
       "    <tr>\n",
       "      <th>0</th>\n",
       "      <td>10000003</td>\n",
       "      <td>Turner</td>\n",
       "      <td>$62608.00</td>\n",
       "    </tr>\n",
       "    <tr>\n",
       "      <th>1</th>\n",
       "      <td>10000008</td>\n",
       "      <td>Michael</td>\n",
       "      <td>$146101.28</td>\n",
       "    </tr>\n",
       "    <tr>\n",
       "      <th>2</th>\n",
       "      <td>10000015</td>\n",
       "      <td>Greco</td>\n",
       "      <td>$96345.60</td>\n",
       "    </tr>\n",
       "    <tr>\n",
       "      <th>3</th>\n",
       "      <td>10000022</td>\n",
       "      <td>Wiswell-DeCampo</td>\n",
       "      <td>$45676.80</td>\n",
       "    </tr>\n",
       "    <tr>\n",
       "      <th>4</th>\n",
       "      <td>10000026</td>\n",
       "      <td>White</td>\n",
       "      <td>$109867.68</td>\n",
       "    </tr>\n",
       "    <tr>\n",
       "      <th>5</th>\n",
       "      <td>10000039</td>\n",
       "      <td>Candoli</td>\n",
       "      <td>$100800.96</td>\n",
       "    </tr>\n",
       "    <tr>\n",
       "      <th>6</th>\n",
       "      <td>10000066</td>\n",
       "      <td>Mason</td>\n",
       "      <td>$126349.60</td>\n",
       "    </tr>\n",
       "    <tr>\n",
       "      <th>7</th>\n",
       "      <td>10000084</td>\n",
       "      <td>Lynch</td>\n",
       "      <td>$94203.20</td>\n",
       "    </tr>\n",
       "    <tr>\n",
       "      <th>8</th>\n",
       "      <td>10000127</td>\n",
       "      <td>Wosky</td>\n",
       "      <td>$93977.52</td>\n",
       "    </tr>\n",
       "    <tr>\n",
       "      <th>9</th>\n",
       "      <td>10000132</td>\n",
       "      <td>Ringuette</td>\n",
       "      <td>$75487.36</td>\n",
       "    </tr>\n",
       "  </tbody>\n",
       "</table>\n",
       "</div>"
      ],
      "text/plain": [
       "     Emp ID             Last Annual Salary\n",
       "0  10000003           Turner     $62608.00\n",
       "1  10000008          Michael    $146101.28\n",
       "2  10000015            Greco     $96345.60\n",
       "3  10000022  Wiswell-DeCampo     $45676.80\n",
       "4  10000026            White    $109867.68\n",
       "5  10000039          Candoli    $100800.96\n",
       "6  10000066            Mason    $126349.60\n",
       "7  10000084            Lynch     $94203.20\n",
       "8  10000127            Wosky     $93977.52\n",
       "9  10000132        Ringuette     $75487.36"
      ]
     },
     "execution_count": 3,
     "metadata": {},
     "output_type": "execute_result"
    }
   ],
   "source": [
    "df = pd.read_csv('City_of_Austin_Employee_Detail_Information.csv')\n",
    "df[['Emp ID', 'Last', 'Annual Salary']][0:10]"
   ]
  },
  {
   "cell_type": "code",
   "execution_count": 4,
   "metadata": {
    "collapsed": false
   },
   "outputs": [],
   "source": [
    "df['annual_salary'] = df['Annual Salary'].map(lambda x: float(x.strip('$')))"
   ]
  },
  {
   "cell_type": "code",
   "execution_count": 5,
   "metadata": {
    "collapsed": false
   },
   "outputs": [
    {
     "data": {
      "text/plain": [
       "15521"
      ]
     },
     "execution_count": 5,
     "metadata": {},
     "output_type": "execute_result"
    }
   ],
   "source": [
    "# Amount of employees\n",
    "len(df)"
   ]
  },
  {
   "cell_type": "code",
   "execution_count": 6,
   "metadata": {
    "collapsed": false
   },
   "outputs": [
    {
     "data": {
      "text/plain": [
       "36"
      ]
     },
     "execution_count": 6,
     "metadata": {},
     "output_type": "execute_result"
    }
   ],
   "source": [
    "# Amount of departments\n",
    "len(df['Department Name'].value_counts())"
   ]
  },
  {
   "cell_type": "code",
   "execution_count": 7,
   "metadata": {
    "collapsed": false
   },
   "outputs": [
    {
     "data": {
      "text/plain": [
       "51854.4"
      ]
     },
     "execution_count": 7,
     "metadata": {},
     "output_type": "execute_result"
    }
   ],
   "source": [
    "# Median salary\n",
    "df['annual_salary'].median()"
   ]
  },
  {
   "cell_type": "code",
   "execution_count": 8,
   "metadata": {
    "collapsed": false
   },
   "outputs": [
    {
     "data": {
      "image/png": "[encoded data removed]",
      "text/plain": [
       "<matplotlib.figure.Figure at 0x10c153390>"
      ]
     },
     "metadata": {},
     "output_type": "display_data"
    }
   ],
   "source": [
    "# Salaries histogram\n",
    "histogram = df['annual_salary'].hist().set_title(\"Salary vs # of empleyees\")"
   ]
  },
  {
   "cell_type": "code",
   "execution_count": 9,
   "metadata": {
    "collapsed": false
   },
   "outputs": [
    {
     "data": {
      "text/html": [
       "<div>\n",
       "<table border=\"1\" class=\"dataframe\">\n",
       "  <thead>\n",
       "    <tr style=\"text-align: right;\">\n",
       "      <th></th>\n",
       "      <th>Last</th>\n",
       "      <th>Department Name</th>\n",
       "      <th>Title</th>\n",
       "      <th>Annual Salary</th>\n",
       "    </tr>\n",
       "  </thead>\n",
       "  <tbody>\n",
       "    <tr>\n",
       "      <th>9527</th>\n",
       "      <td>Weis</td>\n",
       "      <td>Austin Energy</td>\n",
       "      <td>General Mgr Electric Utility</td>\n",
       "      <td>$315328.00</td>\n",
       "    </tr>\n",
       "    <tr>\n",
       "      <th>8172</th>\n",
       "      <td>Ott</td>\n",
       "      <td>Management Services</td>\n",
       "      <td>City Manager</td>\n",
       "      <td>$279198.40</td>\n",
       "    </tr>\n",
       "    <tr>\n",
       "      <th>49</th>\n",
       "      <td>Smith</td>\n",
       "      <td>Aviation</td>\n",
       "      <td>MuniProg, Official/Admin</td>\n",
       "      <td>$277971.20</td>\n",
       "    </tr>\n",
       "    <tr>\n",
       "      <th>9002</th>\n",
       "      <td>Hinchey</td>\n",
       "      <td>Management Services</td>\n",
       "      <td>EMS System Medical Director</td>\n",
       "      <td>$255320.00</td>\n",
       "    </tr>\n",
       "    <tr>\n",
       "      <th>59</th>\n",
       "      <td>Mele</td>\n",
       "      <td>Austin Energy</td>\n",
       "      <td>AE Chief Operating Officer</td>\n",
       "      <td>$218899.20</td>\n",
       "    </tr>\n",
       "    <tr>\n",
       "      <th>4397</th>\n",
       "      <td>Overton</td>\n",
       "      <td>Austin Energy</td>\n",
       "      <td>Dep GM, Shared Services</td>\n",
       "      <td>$218899.20</td>\n",
       "    </tr>\n",
       "    <tr>\n",
       "      <th>8242</th>\n",
       "      <td>Goode</td>\n",
       "      <td>Management Services</td>\n",
       "      <td>Assistant City Manager</td>\n",
       "      <td>$210995.20</td>\n",
       "    </tr>\n",
       "    <tr>\n",
       "      <th>11869</th>\n",
       "      <td>Arellano</td>\n",
       "      <td>Management Services</td>\n",
       "      <td>Assistant City Manager</td>\n",
       "      <td>$210995.20</td>\n",
       "    </tr>\n",
       "    <tr>\n",
       "      <th>7204</th>\n",
       "      <td>Lumbreras</td>\n",
       "      <td>Management Services</td>\n",
       "      <td>Assistant City Manager</td>\n",
       "      <td>$210995.20</td>\n",
       "    </tr>\n",
       "    <tr>\n",
       "      <th>568</th>\n",
       "      <td>Edwards</td>\n",
       "      <td>Management Services</td>\n",
       "      <td>Assistant City Manager</td>\n",
       "      <td>$210995.20</td>\n",
       "    </tr>\n",
       "  </tbody>\n",
       "</table>\n",
       "</div>"
      ],
      "text/plain": [
       "            Last      Department Name                         Title  \\\n",
       "9527        Weis        Austin Energy  General Mgr Electric Utility   \n",
       "8172         Ott  Management Services                  City Manager   \n",
       "49         Smith             Aviation      MuniProg, Official/Admin   \n",
       "9002     Hinchey  Management Services   EMS System Medical Director   \n",
       "59          Mele        Austin Energy    AE Chief Operating Officer   \n",
       "4397     Overton        Austin Energy       Dep GM, Shared Services   \n",
       "8242       Goode  Management Services        Assistant City Manager   \n",
       "11869   Arellano  Management Services        Assistant City Manager   \n",
       "7204   Lumbreras  Management Services        Assistant City Manager   \n",
       "568      Edwards  Management Services        Assistant City Manager   \n",
       "\n",
       "      Annual Salary  \n",
       "9527     $315328.00  \n",
       "8172     $279198.40  \n",
       "49       $277971.20  \n",
       "9002     $255320.00  \n",
       "59       $218899.20  \n",
       "4397     $218899.20  \n",
       "8242     $210995.20  \n",
       "11869    $210995.20  \n",
       "7204     $210995.20  \n",
       "568      $210995.20  "
      ]
     },
     "execution_count": 9,
     "metadata": {},
     "output_type": "execute_result"
    }
   ],
   "source": [
    "# Top compensation in the City of Austin\n",
    "df.ix[df['annual_salary'].sort_values(ascending=False)[0:10].index][['Last', 'Department Name', 'Title', 'Annual Salary']]"
   ]
  },
  {
   "cell_type": "code",
   "execution_count": 10,
   "metadata": {
    "collapsed": false
   },
   "outputs": [
    {
     "data": {
      "text/html": [
       "<div>\n",
       "<table border=\"1\" class=\"dataframe\">\n",
       "  <thead>\n",
       "    <tr style=\"text-align: right;\">\n",
       "      <th></th>\n",
       "      <th>Employees</th>\n",
       "      <th>Median Salary</th>\n",
       "    </tr>\n",
       "  </thead>\n",
       "  <tbody>\n",
       "    <tr>\n",
       "      <th>Parks &amp; Recreation</th>\n",
       "      <td>2362</td>\n",
       "      <td>21320.00</td>\n",
       "    </tr>\n",
       "    <tr>\n",
       "      <th>Police</th>\n",
       "      <td>2358</td>\n",
       "      <td>75487.36</td>\n",
       "    </tr>\n",
       "    <tr>\n",
       "      <th>Austin Energy</th>\n",
       "      <td>1633</td>\n",
       "      <td>72030.40</td>\n",
       "    </tr>\n",
       "    <tr>\n",
       "      <th>Fire</th>\n",
       "      <td>1153</td>\n",
       "      <td>77724.66</td>\n",
       "    </tr>\n",
       "    <tr>\n",
       "      <th>Health &amp; Human Services</th>\n",
       "      <td>1141</td>\n",
       "      <td>7540.00</td>\n",
       "    </tr>\n",
       "    <tr>\n",
       "      <th>Austin Water Utility</th>\n",
       "      <td>1089</td>\n",
       "      <td>52083.20</td>\n",
       "    </tr>\n",
       "    <tr>\n",
       "      <th>Public Works</th>\n",
       "      <td>677</td>\n",
       "      <td>39811.20</td>\n",
       "    </tr>\n",
       "    <tr>\n",
       "      <th>Emergency Medical Services</th>\n",
       "      <td>532</td>\n",
       "      <td>57158.40</td>\n",
       "    </tr>\n",
       "    <tr>\n",
       "      <th>Convention Center</th>\n",
       "      <td>479</td>\n",
       "      <td>33737.60</td>\n",
       "    </tr>\n",
       "    <tr>\n",
       "      <th>Austin Resource Recovery</th>\n",
       "      <td>434</td>\n",
       "      <td>42078.40</td>\n",
       "    </tr>\n",
       "  </tbody>\n",
       "</table>\n",
       "</div>"
      ],
      "text/plain": [
       "                            Employees  Median Salary\n",
       "Parks & Recreation               2362       21320.00\n",
       "Police                           2358       75487.36\n",
       "Austin Energy                    1633       72030.40\n",
       "Fire                             1153       77724.66\n",
       "Health & Human Services          1141        7540.00\n",
       "Austin Water Utility             1089       52083.20\n",
       "Public Works                      677       39811.20\n",
       "Emergency Medical Services        532       57158.40\n",
       "Convention Center                 479       33737.60\n",
       "Austin Resource Recovery          434       42078.40"
      ]
     },
     "execution_count": 10,
     "metadata": {},
     "output_type": "execute_result"
    }
   ],
   "source": [
    "# Most popular departments in the City of Austin\n",
    "salary_median = df.groupby('Department Name')['annual_salary'].median().sort_values()\n",
    "employees_per_department = df['Department Name'].value_counts()\n",
    "pd.DataFrame({'Median Salary': salary_median, 'Employees': employees_per_department}).sort_values('Employees', ascending=False)[0:10]"
   ]
  },
  {
   "cell_type": "code",
   "execution_count": 11,
   "metadata": {
    "collapsed": false
   },
   "outputs": [],
   "source": [
    "labels = [\n",
    "    '0 - 31k', '31k - 63k', '63k - 94k',\n",
    "    '94k - 120k', '126k - 157k', '157k - 189k',\n",
    "    '189k - 220k', '220k - 252k', '252k - 283k', '283k - 315k']\n",
    "df['salary_range'] = pd.cut(df['annual_salary'], 10, labels=labels)"
   ]
  },
  {
   "cell_type": "code",
   "execution_count": 12,
   "metadata": {
    "collapsed": false
   },
   "outputs": [
    {
     "data": {
      "text/plain": [
       "<matplotlib.text.Text at 0x10f5151d0>"
      ]
     },
     "execution_count": 12,
     "metadata": {},
     "output_type": "execute_result"
    },
    {
     "data": {
      "image/png": "[encoded data removed]",
      "text/plain": [
       "<matplotlib.figure.Figure at 0x10c153410>"
      ]
     },
     "metadata": {},
     "output_type": "display_data"
    }
   ],
   "source": [
    "df.groupby('salary_range')['Gender'].count().plot(kind='barh').set_title('# of employees vs salary')"
   ]
  },
  {
   "cell_type": "code",
   "execution_count": 13,
   "metadata": {
    "collapsed": false
   },
   "outputs": [
    {
     "data": {
      "text/plain": [
       "<matplotlib.text.Text at 0x10f61a490>"
      ]
     },
     "execution_count": 13,
     "metadata": {},
     "output_type": "execute_result"
    },
    {
     "data": {
      "image/png": "[encoded data removed]",
      "text/plain": [
       "<matplotlib.figure.Figure at 0x10f573850>"
      ]
     },
     "metadata": {},
     "output_type": "display_data"
    }
   ],
   "source": [
    "# Number of F employees by salary\n",
    "df[df['Gender'] == 'F'].groupby('salary_range')['Gender'].count().plot(kind='barh').set_title(\"Salary histogram (only female empleyees)\")"
   ]
  },
  {
   "cell_type": "code",
   "execution_count": 14,
   "metadata": {
    "collapsed": false
   },
   "outputs": [
    {
     "data": {
      "text/plain": [
       "<matplotlib.text.Text at 0x10f7d2110>"
      ]
     },
     "execution_count": 14,
     "metadata": {},
     "output_type": "execute_result"
    },
    {
     "data": {
      "image/png": "[encoded data removed]",
      "text/plain": [
       "<matplotlib.figure.Figure at 0x10a539e10>"
      ]
     },
     "metadata": {},
     "output_type": "display_data"
    }
   ],
   "source": [
    "# Number of M employees by salary\n",
    "df[df['Gender'] == 'M'].groupby('salary_range')['Gender'].count().plot(kind='barh').set_title(\"Salary histogram (only male empleyees)\")"
   ]
  },
  {
   "cell_type": "code",
   "execution_count": 15,
   "metadata": {
    "collapsed": false
   },
   "outputs": [
    {
     "data": {
      "text/plain": [
       "0.33009231978000392"
      ]
     },
     "execution_count": 15,
     "metadata": {},
     "output_type": "execute_result"
    }
   ],
   "source": [
    "# % of male empleyees earning between 63k and 94k\n",
    "df[df['Gender'] == 'M'].groupby('salary_range')['Gender'].count()[2]/len(df[df['Gender'] == 'M'])"
   ]
  },
  {
   "cell_type": "code",
   "execution_count": 16,
   "metadata": {
    "collapsed": false
   },
   "outputs": [
    {
     "data": {
      "text/plain": [
       "0.18786289567334707"
      ]
     },
     "execution_count": 16,
     "metadata": {},
     "output_type": "execute_result"
    }
   ],
   "source": [
    "# % of female empleyees earning between 63k and 94k\n",
    "df[df['Gender'] == 'F'].groupby('salary_range')['Gender'].count()[2]/len(df[df['Gender'] == 'F'])"
   ]
  },
  {
   "cell_type": "code",
   "execution_count": 17,
   "metadata": {
    "collapsed": false
   },
   "outputs": [
    {
     "data": {
      "text/plain": [
       "Ethnicity\n",
       "American Indian/Aleutian    55120.00\n",
       "Asian/Pacific Islander      63944.66\n",
       "Black                       38729.60\n",
       "Hispanic                    42265.60\n",
       "Other                       21320.00\n",
       "White                       63128.00\n",
       "Name: annual_salary, dtype: float64"
      ]
     },
     "execution_count": 17,
     "metadata": {},
     "output_type": "execute_result"
    }
   ],
   "source": [
    "# Salaries by ethnicity\n",
    "df.groupby('Ethnicity')['annual_salary'].median()"
   ]
  },
  {
   "cell_type": "code",
   "execution_count": 18,
   "metadata": {
    "collapsed": false
   },
   "outputs": [
    {
     "data": {
      "text/plain": [
       "<matplotlib.axes._subplots.AxesSubplot at 0x10f909ad0>"
      ]
     },
     "execution_count": 18,
     "metadata": {},
     "output_type": "execute_result"
    },
    {
     "data": {
      "image/png": "[encoded data removed]",
      "text/plain": [
       "<matplotlib.figure.Figure at 0x10f9250d0>"
      ]
     },
     "metadata": {},
     "output_type": "display_data"
    }
   ],
   "source": [
    "# Ethnic breakdown\n",
    "df.groupby('Ethnicity')['annual_salary'].count().plot(kind='barh')"
   ]
  },
  {
   "cell_type": "code",
   "execution_count": null,
   "metadata": {
    "collapsed": true
   },
   "outputs": [],
   "source": []
  }
 ],
 "metadata": {
  "kernelspec": {
   "display_name": "Python 2",
   "language": "python",
   "name": "python2"
  },
  "language_info": {
   "codemirror_mode": {
    "name": "ipython",
    "version": 2
   },
   "file_extension": ".py",
   "mimetype": "text/x-python",
   "name": "python",
   "nbconvert_exporter": "python",
   "pygments_lexer": "ipython2",
   "version": "2.7.11"
  }
 },
 "nbformat": 4,
 "nbformat_minor": 0
}
